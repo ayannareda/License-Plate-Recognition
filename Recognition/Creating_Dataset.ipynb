{
 "cells": [
  {
   "cell_type": "markdown",
   "metadata": {},
   "source": [
    "# Creating CSV of the Dataset"
   ]
  },
  {
   "cell_type": "code",
   "execution_count": 12,
   "metadata": {},
   "outputs": [],
   "source": [
    "import os\n",
    "import cv2\n",
    "import pickle"
   ]
  },
  {
   "cell_type": "code",
   "execution_count": 6,
   "metadata": {},
   "outputs": [],
   "source": [
    "# Path to Dataset\n",
    "path = \"Dataset\""
   ]
  },
  {
   "cell_type": "code",
   "execution_count": 13,
   "metadata": {},
   "outputs": [],
   "source": [
    "data = []\n",
    "labels = []\n",
    "for folder in os.listdir(path):\n",
    "    for file in os.listdir(os.path.join(path, folder)):\n",
    "        # Reading Image\n",
    "        image_path = os.path.join(path,folder,file)\n",
    "        img = cv2.imread(image_path)\n",
    "        # BGR -> Gray\n",
    "        gray = cv2.cvtColor(img, cv2.COLOR_BGR2GRAY)\n",
    "        # Loading data and labels\n",
    "        data.append(gray)\n",
    "        labels.append(folder)\n",
    "# Saving Data and labels\n",
    "pickle.dump(data, open(\"data.pickle\", \"wb\"))\n",
    "pickle.dump(labels, open(\"labels.pickle\", \"wb\"))"
   ]
  }
 ],
 "metadata": {
  "kernelspec": {
   "display_name": "Python 3",
   "language": "python",
   "name": "python3"
  },
  "language_info": {
   "codemirror_mode": {
    "name": "ipython",
    "version": 3
   },
   "file_extension": ".py",
   "mimetype": "text/x-python",
   "name": "python",
   "nbconvert_exporter": "python",
   "pygments_lexer": "ipython3",
   "version": "3.8.5"
  }
 },
 "nbformat": 4,
 "nbformat_minor": 4
}
