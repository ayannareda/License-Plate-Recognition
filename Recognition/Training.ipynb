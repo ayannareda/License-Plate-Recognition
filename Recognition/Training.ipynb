{
 "cells": [
  {
   "cell_type": "markdown",
   "metadata": {},
   "source": [
    "# Training Digit classifier"
   ]
  },
  {
   "cell_type": "code",
   "execution_count": 1,
   "metadata": {},
   "outputs": [],
   "source": [
    "import tensorflow as tf\n",
    "gpus = tf.config.experimental.list_physical_devices('GPU')\n",
    "if gpus:\n",
    "  try:\n",
    "    for gpu in gpus:\n",
    "      tf.config.experimental.set_memory_growth(gpu, True)\n",
    "  except RuntimeError as e:\n",
    "    print(e)"
   ]
  },
  {
   "cell_type": "code",
   "execution_count": 2,
   "metadata": {},
   "outputs": [],
   "source": [
    "import pickle\n",
    "import numpy as np"
   ]
  },
  {
   "cell_type": "markdown",
   "metadata": {},
   "source": [
    "### Loading Data"
   ]
  },
  {
   "cell_type": "code",
   "execution_count": 3,
   "metadata": {},
   "outputs": [],
   "source": [
    "d = open(\"data.pickle\",\"rb\")\n",
    "data = pickle.load(d)"
   ]
  },
  {
   "cell_type": "code",
   "execution_count": 4,
   "metadata": {},
   "outputs": [],
   "source": [
    "data = np.array(data)"
   ]
  },
  {
   "cell_type": "markdown",
   "metadata": {},
   "source": [
    "### Loading labels"
   ]
  },
  {
   "cell_type": "code",
   "execution_count": 5,
   "metadata": {},
   "outputs": [],
   "source": [
    "# Diction of all classes\n",
    "alphabets_dic = {0: 'A', 1: 'B', 2: 'C', 3: 'D', 4: 'E', 5: 'F', 6: 'G', 7: 'H', 8: 'I', 9: 'J',\n",
    "             10: 'K', 11: 'L', 12: 'M', 13: 'N', 14: 'O', 15: 'P', 16: 'Q', 17: 'R', 18: 'S', 19: 'T',\n",
    "             20: 'U', 21: 'V', 22: 'W', 23: 'X', 24: 'Y', 25: 'Z', 26: '0', 27: '1', 28: '2', 29:'3',\n",
    "             30: '4', 31: '5', 32: '6', 33: '7', 34: '8', 35: '9'}"
   ]
  },
  {
   "cell_type": "code",
   "execution_count": 6,
   "metadata": {},
   "outputs": [],
   "source": [
    "# Loading the labels\n",
    "l = open(\"labels.pickle\",\"rb\")\n",
    "labels = pickle.load(l)"
   ]
  },
  {
   "cell_type": "code",
   "execution_count": 7,
   "metadata": {},
   "outputs": [],
   "source": [
    "# Converting classes to integers\n",
    "labels_integer = []\n",
    "count = 0\n",
    "for i in labels:\n",
    "    for j in range(len(alphabets_dic)):\n",
    "        if alphabets_dic[j] == i:\n",
    "            labels_integer.append(j)"
   ]
  },
  {
   "cell_type": "markdown",
   "metadata": {},
   "source": [
    "### One-Hot Encoding"
   ]
  },
  {
   "cell_type": "code",
   "execution_count": 8,
   "metadata": {},
   "outputs": [],
   "source": [
    "from keras.utils import np_utils"
   ]
  },
  {
   "cell_type": "code",
   "execution_count": 9,
   "metadata": {},
   "outputs": [],
   "source": [
    "num_of_classes = 36\n",
    "lbls = np_utils.to_categorical(labels_integer, num_of_classes)"
   ]
  },
  {
   "cell_type": "code",
   "execution_count": 20,
   "metadata": {},
   "outputs": [],
   "source": [
    "# Converting in Integer\n",
    "lbls = np.asarray(lbls).astype('int')"
   ]
  },
  {
   "cell_type": "markdown",
   "metadata": {},
   "source": [
    "### Train/Test Split"
   ]
  },
  {
   "cell_type": "code",
   "execution_count": 15,
   "metadata": {},
   "outputs": [],
   "source": [
    "from sklearn.model_selection import train_test_split"
   ]
  },
  {
   "cell_type": "code",
   "execution_count": 21,
   "metadata": {},
   "outputs": [],
   "source": [
    "# 80:20 Split\n",
    "X_train, X_test, y_train, y_test = train_test_split(data, lbls, test_size=0.20, random_state=42)"
   ]
  },
  {
   "cell_type": "code",
   "execution_count": 22,
   "metadata": {},
   "outputs": [],
   "source": [
    "# Adding one more channel\n",
    "X_train = X_train.reshape(29260,28,28,1)\n",
    "X_test = X_test.reshape(7316,28,28,1)"
   ]
  },
  {
   "cell_type": "code",
   "execution_count": 23,
   "metadata": {},
   "outputs": [
    {
     "name": "stdout",
     "output_type": "stream",
     "text": [
      "(29260, 28, 28, 1)\n",
      "(7316, 28, 28, 1)\n",
      "(29260, 36)\n",
      "(7316, 36)\n"
     ]
    }
   ],
   "source": [
    "print(X_train.shape)\n",
    "print(X_test.shape)\n",
    "print(y_train.shape)\n",
    "print(y_test.shape)"
   ]
  },
  {
   "cell_type": "markdown",
   "metadata": {},
   "source": [
    "### Building Model"
   ]
  },
  {
   "cell_type": "code",
   "execution_count": 24,
   "metadata": {},
   "outputs": [],
   "source": [
    "from keras.models import Sequential\n",
    "from keras.layers import Dense, Conv2D, MaxPooling2D, Dropout, Flatten"
   ]
  },
  {
   "cell_type": "code",
   "execution_count": 26,
   "metadata": {},
   "outputs": [],
   "source": [
    "model = Sequential()\n",
    "model.add(Conv2D(32, (3, 3), padding='same', activation='relu', input_shape=(28,28,1)))\n",
    "model.add(Conv2D(32, (3, 3), activation='relu'))\n",
    "model.add(MaxPooling2D(pool_size=(2, 2)))\n",
    "model.add(Dropout(0.25))\n",
    "\n",
    "model.add(Conv2D(64, (3, 3), padding='same', activation='relu'))\n",
    "model.add(Conv2D(64, (3, 3), activation='relu'))\n",
    "model.add(MaxPooling2D(pool_size=(2, 2)))\n",
    "model.add(Dropout(0.25))\n",
    "\n",
    "model.add(Conv2D(64, (3, 3), padding='same', activation='relu'))\n",
    "model.add(Conv2D(64, (3, 3), activation='relu'))\n",
    "model.add(MaxPooling2D(pool_size=(2, 2)))\n",
    "model.add(Dropout(0.25))\n",
    "\n",
    "model.add(Flatten())\n",
    "model.add(Dense(512, activation='relu'))\n",
    "model.add(Dropout(0.5))\n",
    "model.add(Dense(36, activation='softmax'))"
   ]
  },
  {
   "cell_type": "code",
   "execution_count": 27,
   "metadata": {},
   "outputs": [
    {
     "name": "stdout",
     "output_type": "stream",
     "text": [
      "Model: \"sequential\"\n",
      "_________________________________________________________________\n",
      "Layer (type)                 Output Shape              Param #   \n",
      "=================================================================\n",
      "conv2d (Conv2D)              (None, 28, 28, 32)        320       \n",
      "_________________________________________________________________\n",
      "conv2d_1 (Conv2D)            (None, 26, 26, 32)        9248      \n",
      "_________________________________________________________________\n",
      "max_pooling2d (MaxPooling2D) (None, 13, 13, 32)        0         \n",
      "_________________________________________________________________\n",
      "dropout (Dropout)            (None, 13, 13, 32)        0         \n",
      "_________________________________________________________________\n",
      "conv2d_2 (Conv2D)            (None, 13, 13, 64)        18496     \n",
      "_________________________________________________________________\n",
      "conv2d_3 (Conv2D)            (None, 11, 11, 64)        36928     \n",
      "_________________________________________________________________\n",
      "max_pooling2d_1 (MaxPooling2 (None, 5, 5, 64)          0         \n",
      "_________________________________________________________________\n",
      "dropout_1 (Dropout)          (None, 5, 5, 64)          0         \n",
      "_________________________________________________________________\n",
      "conv2d_4 (Conv2D)            (None, 5, 5, 64)          36928     \n",
      "_________________________________________________________________\n",
      "conv2d_5 (Conv2D)            (None, 3, 3, 64)          36928     \n",
      "_________________________________________________________________\n",
      "max_pooling2d_2 (MaxPooling2 (None, 1, 1, 64)          0         \n",
      "_________________________________________________________________\n",
      "dropout_2 (Dropout)          (None, 1, 1, 64)          0         \n",
      "_________________________________________________________________\n",
      "flatten (Flatten)            (None, 64)                0         \n",
      "_________________________________________________________________\n",
      "dense (Dense)                (None, 512)               33280     \n",
      "_________________________________________________________________\n",
      "dropout_3 (Dropout)          (None, 512)               0         \n",
      "_________________________________________________________________\n",
      "dense_1 (Dense)              (None, 36)                18468     \n",
      "=================================================================\n",
      "Total params: 190,596\n",
      "Trainable params: 190,596\n",
      "Non-trainable params: 0\n",
      "_________________________________________________________________\n",
      "None\n"
     ]
    }
   ],
   "source": [
    "# model Summary\n",
    "print(model.summary())"
   ]
  },
  {
   "cell_type": "markdown",
   "metadata": {},
   "source": [
    "### Compiling the Model"
   ]
  },
  {
   "cell_type": "code",
   "execution_count": 28,
   "metadata": {},
   "outputs": [],
   "source": [
    "# Loss = \"categorical_crossentropy\"\n",
    "# Optimizer = \"Adam\"\n",
    "model.compile(loss='categorical_crossentropy', optimizer='adam', metrics=['accuracy'])"
   ]
  },
  {
   "cell_type": "markdown",
   "metadata": {},
   "source": [
    "### Training the Model"
   ]
  },
  {
   "cell_type": "code",
   "execution_count": 29,
   "metadata": {},
   "outputs": [
    {
     "name": "stdout",
     "output_type": "stream",
     "text": [
      "Epoch 1/20\n",
      "458/458 [==============================] - 53s 115ms/step - loss: 2.4138 - accuracy: 0.3142 - val_loss: 0.5787 - val_accuracy: 0.8457\n",
      "Epoch 2/20\n",
      "458/458 [==============================] - 53s 116ms/step - loss: 0.7222 - accuracy: 0.7869 - val_loss: 0.3294 - val_accuracy: 0.9095\n",
      "Epoch 3/20\n",
      "458/458 [==============================] - 53s 115ms/step - loss: 0.4600 - accuracy: 0.8674 - val_loss: 0.2541 - val_accuracy: 0.9321\n",
      "Epoch 4/20\n",
      "458/458 [==============================] - 53s 116ms/step - loss: 0.3632 - accuracy: 0.8945 - val_loss: 0.2209 - val_accuracy: 0.9359\n",
      "Epoch 5/20\n",
      "458/458 [==============================] - 53s 116ms/step - loss: 0.3122 - accuracy: 0.9071 - val_loss: 0.2051 - val_accuracy: 0.9415\n",
      "Epoch 6/20\n",
      "458/458 [==============================] - 53s 116ms/step - loss: 0.2895 - accuracy: 0.9141 - val_loss: 0.2013 - val_accuracy: 0.9422\n",
      "Epoch 7/20\n",
      "458/458 [==============================] - 54s 117ms/step - loss: 0.2675 - accuracy: 0.9195 - val_loss: 0.1757 - val_accuracy: 0.9508\n",
      "Epoch 8/20\n",
      "458/458 [==============================] - 54s 117ms/step - loss: 0.2425 - accuracy: 0.9277 - val_loss: 0.1616 - val_accuracy: 0.9533\n",
      "Epoch 9/20\n",
      "458/458 [==============================] - 54s 118ms/step - loss: 0.2315 - accuracy: 0.9292 - val_loss: 0.1548 - val_accuracy: 0.9560\n",
      "Epoch 10/20\n",
      "458/458 [==============================] - 53s 116ms/step - loss: 0.2176 - accuracy: 0.9342 - val_loss: 0.1525 - val_accuracy: 0.9534\n",
      "Epoch 11/20\n",
      "458/458 [==============================] - 53s 115ms/step - loss: 0.2084 - accuracy: 0.9351 - val_loss: 0.1408 - val_accuracy: 0.9580\n",
      "Epoch 12/20\n",
      "458/458 [==============================] - 53s 115ms/step - loss: 0.1989 - accuracy: 0.9395 - val_loss: 0.1450 - val_accuracy: 0.9567\n",
      "Epoch 13/20\n",
      "458/458 [==============================] - 53s 115ms/step - loss: 0.2026 - accuracy: 0.9380 - val_loss: 0.1321 - val_accuracy: 0.9594\n",
      "Epoch 14/20\n",
      "458/458 [==============================] - 53s 115ms/step - loss: 0.1852 - accuracy: 0.9446 - val_loss: 0.1377 - val_accuracy: 0.9565\n",
      "Epoch 15/20\n",
      "458/458 [==============================] - 53s 115ms/step - loss: 0.1887 - accuracy: 0.9423 - val_loss: 0.1294 - val_accuracy: 0.9612\n",
      "Epoch 16/20\n",
      "458/458 [==============================] - 53s 115ms/step - loss: 0.1749 - accuracy: 0.9444 - val_loss: 0.1345 - val_accuracy: 0.9601\n",
      "Epoch 17/20\n",
      "458/458 [==============================] - 53s 115ms/step - loss: 0.1702 - accuracy: 0.9471 - val_loss: 0.1369 - val_accuracy: 0.9604\n",
      "Epoch 18/20\n",
      "458/458 [==============================] - 53s 115ms/step - loss: 0.1669 - accuracy: 0.9487 - val_loss: 0.1262 - val_accuracy: 0.9624\n",
      "Epoch 19/20\n",
      "458/458 [==============================] - 53s 116ms/step - loss: 0.1722 - accuracy: 0.9474 - val_loss: 0.1326 - val_accuracy: 0.9609\n",
      "Epoch 20/20\n",
      "458/458 [==============================] - 53s 115ms/step - loss: 0.1671 - accuracy: 0.9487 - val_loss: 0.1282 - val_accuracy: 0.9616\n"
     ]
    }
   ],
   "source": [
    "history = model.fit(X_train, y_train,validation_data=(X_test, y_test), epochs=20, batch_size=64)"
   ]
  },
  {
   "cell_type": "markdown",
   "metadata": {},
   "source": [
    "### Saving the model"
   ]
  },
  {
   "cell_type": "code",
   "execution_count": 30,
   "metadata": {},
   "outputs": [],
   "source": [
    "model.save('cnn_classifier.h5')"
   ]
  },
  {
   "cell_type": "markdown",
   "metadata": {},
   "source": [
    "### Vizualising Results"
   ]
  },
  {
   "cell_type": "code",
   "execution_count": 32,
   "metadata": {},
   "outputs": [],
   "source": [
    "import matplotlib.pyplot as plt"
   ]
  },
  {
   "cell_type": "code",
   "execution_count": 33,
   "metadata": {},
   "outputs": [
    {
     "data": {
      "image/png": "[encoded data removed]",
      "text/plain": [
       "<Figure size 576x432 with 1 Axes>"
      ]
     },
     "metadata": {
      "needs_background": "light"
     },
     "output_type": "display_data"
    }
   ],
   "source": [
    "# Accuracy\n",
    "plt.figure(figsize=[8, 6])\n",
    "plt.plot(history.history['accuracy'])\n",
    "plt.plot(history.history['val_accuracy'])\n",
    "plt.title('Model accuracy')\n",
    "plt.ylabel('Accuracy')\n",
    "plt.xlabel('Epoch')\n",
    "plt.legend(['Train', 'Test'], loc='upper left')\n",
    "plt.savefig('Accuracy.png')\n",
    "plt.show()"
   ]
  },
  {
   "cell_type": "code",
   "execution_count": 34,
   "metadata": {},
   "outputs": [
    {
     "data": {
      "image/png": "[encoded data removed]",
      "text/plain": [
       "<Figure size 576x432 with 1 Axes>"
      ]
     },
     "metadata": {
      "needs_background": "light"
     },
     "output_type": "display_data"
    }
   ],
   "source": [
    "# Loss\n",
    "plt.figure(figsize=[8, 6])\n",
    "plt.plot(history.history['loss'])\n",
    "plt.plot(history.history['val_loss'])\n",
    "plt.title('Model loss')\n",
    "plt.ylabel('Loss')\n",
    "plt.xlabel('Epoch')\n",
    "plt.legend(['Train', 'Test'], loc='upper left')\n",
    "plt.savefig(\"Loss.png\")\n",
    "plt.show()"
   ]
  }
 ],
 "metadata": {
  "kernelspec": {
   "display_name": "Python 3",
   "language": "python",
   "name": "python3"
  },
  "language_info": {
   "codemirror_mode": {
    "name": "ipython",
    "version": 3
   },
   "file_extension": ".py",
   "mimetype": "text/x-python",
   "name": "python",
   "nbconvert_exporter": "python",
   "pygments_lexer": "ipython3",
   "version": "3.8.5"
  }
 },
 "nbformat": 4,
 "nbformat_minor": 4
}
